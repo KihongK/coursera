{
 "cells": [
  {
   "cell_type": "markdown",
   "metadata": {},
   "source": [
    "# 신경망을 이용한 로지스틱 회귀 분석 \n",
    "\n",
    "**참고**  \n",
    "이 노트북은 **[Coursera Deep Learning](https://www.coursera.org/learn/neural-networks-deep-learning/home/welcome)** 강좌를 가져온 자료입니다.  \n",
    "복습겸 오래된 버전의 패키지로 인해 작동안하는 걸 수정했습니다.   \n",
    "물론 Coursera 에서 제공하는 노트북은 예전 버전의 패키지로 세팅되어있어 잘 돌아갑니다.\n",
    "\n",
    "\n",
    "**핵심 내용:**\n",
    "    - 매개변수 초기화\n",
    "    - cost function & gradient 계산\n",
    "    - 최적화 알고리즘 "
   ]
  },
  {
   "cell_type": "markdown",
   "metadata": {},
   "source": [
    "## 1 - 패키지 ##\n",
    "\n",
    "- [numpy](www.numpy.org) 행렬에 대한 수식에 필요한 패키지입니다.\n",
    "- [h5py](http://www.h5py.org) h5 형식 파일을 사용할때 필요한 패키지입니다.\n",
    "- [matplotlib](http://matplotlib.org) 시각화에 사용할 패키지입니다.\n",
    "- [PIL](http://www.pythonware.com/products/pil/) and [scipy](https://www.scipy.org/) 모델 테스트 그리고 테스트 결과를 확인하기 위한 패키지입니다."
   ]
  },
  {
   "cell_type": "code",
   "execution_count": 1,
   "metadata": {},
   "outputs": [],
   "source": [
    "import numpy as np\n",
    "import matplotlib.pyplot as plt\n",
    "import h5py\n",
    "import scipy\n",
    "from PIL import Image\n",
    "from scipy import ndimage\n",
    "from lr_utils import load_dataset\n",
    "\n",
    "%matplotlib inline"
   ]
  },
  {
   "cell_type": "markdown",
   "metadata": {},
   "source": [
    "## 2 - 해결할 문제 ##\n",
    "\n",
    "**주어진 데이터셋(\"data.h5\")에 저장된 내용:**\n",
    "    - 고양이 사진(y=1) 고양이가 아닌 사진(y=0)으로 라벨링된 m개의 학습데이터\n",
    "    - 고양이와 고양이가 아닌 사진으로 라벨링된 m개의 검정데이터\n",
    "    - 각 사진의 구조는 (num_px, num_px, 3)입니다.3은 색상 채널을 의미하고 RGB 3개 색상을 포함하고 있습니다. \n",
    "    \n",
    "여러분은 고양이와 고양이가 아닌 사진을 구별 또는 인식하는 간단한 이미지 인식 알고리즘을 구축할겁니다.\n",
    "\n",
    "데이터를 불러 직접 확인해보겠습니다"
   ]
  },
  {
   "cell_type": "code",
   "execution_count": 2,
   "metadata": {},
   "outputs": [],
   "source": [
    "# Loading the data (cat/non-cat)\n",
    "train_set_x_orig, train_set_y, test_set_x_orig, test_set_y, classes = load_dataset()"
   ]
  },
  {
   "cell_type": "markdown",
   "metadata": {},
   "source": [
    "이미지 데이터셋에 전처리 과정이 필요하기 때문에 데이터셋(train, test)의 변수명에 \"_orig\" 을 붙였습니다.   \n",
    "전처리 이후 이미지 데이터의 변수명은 train_set_x, test_set_x 로 사용할 겁니다.  \n",
    "(label 데이터인 y는 전처리가 필요 없습니다.)\n",
    "\n",
    "train_set_x_orig 과 test_set_x_orig 은 행렬 형태의 이미지를 포함하고 있습니다.  \n",
    "변수 index의 값을 수정해서 어떤 이미지를 갖고있는지 확인해보세요~"
   ]
  },
  {
   "cell_type": "code",
   "execution_count": 3,
   "metadata": {},
   "outputs": [
    {
     "name": "stdout",
     "output_type": "stream",
     "text": [
      "(209, 64, 64, 3) (1, 209) (50, 64, 64, 3) (1, 50)\n",
      "[1]\n",
      "y = [0], it's a 'non-cat' picture.\n"
     ]
    },
    {
     "data": {
      "image/png": "[encoded data removed]",
      "text/plain": [
       "<Figure size 432x288 with 1 Axes>"
      ]
     },
     "metadata": {
      "needs_background": "light"
     },
     "output_type": "display_data"
    }
   ],
   "source": [
    "# Example of a picture\n",
    "index = 23\n",
    "plt.imshow(train_set_x_orig[index])\n",
    "\n",
    "print(train_set_x_orig.shape, train_set_y.shape, test_set_x_orig.shape, test_set_y.shape)\n",
    "\n",
    "print(train_set_y[:, 25])\n",
    "\n",
    "print (\"y = \" + str(train_set_y[:, index]) + \", it's a '\" + classes[np.squeeze(train_set_y[:, index])].decode(\"utf-8\") +  \"' picture.\")"
   ]
  },
  {
   "cell_type": "markdown",
   "metadata": {},
   "source": [
    "흔히 딥러닝 모델의 오류는 행렬의 차원을 제대로 맞추지 않아서 발생하게 됩니다. 미리 행렬의 차원 값을 고정으로 한다면 오류를 사전에 예방할 수 있습니다.\n",
    "\n",
    "**실습 :** \n",
    "    - m_train (학습 데이터 갯수)\n",
    "    - m_test (검정 데이터 갯수)\n",
    "    - num_px (이미지의 높이와 너비)\n",
    "    \n",
    "\n",
    "`train_set_x_orig` 의 행렬 구조가 (m_train, num_px, num_px, 3) 이라는것을 꼭 기억하세요 !!\n",
    "\n",
    "예를 들어 `train_set_x_orig.shape[0]` 사용하면 m_train(학습 데이터 갯수)를 확인 할수 있습니다."
   ]
  },
  {
   "cell_type": "code",
   "execution_count": 4,
   "metadata": {
    "scrolled": true
   },
   "outputs": [
    {
     "name": "stdout",
     "output_type": "stream",
     "text": [
      "Number of training examples: m_train = 209\n",
      "Number of testing examples: m_test = 50\n",
      "Height/Width of each image: num_px = 64\n",
      "Each image is of size: (64, 64, 3)\n",
      "train_set_x shape: (209, 64, 64, 3)\n",
      "train_set_y shape: (1, 209)\n",
      "test_set_x shape: (50, 64, 64, 3)\n",
      "test_set_y shape: (1, 50)\n"
     ]
    }
   ],
   "source": [
    "m_train = train_set_x_orig.shape[0]\n",
    "m_test = test_set_x_orig.shape[0]\n",
    "num_px = test_set_x_orig.shape[1]\n",
    "\n",
    "print (\"Number of training examples: m_train = \" + str(m_train))\n",
    "print (\"Number of testing examples: m_test = \" + str(m_test))\n",
    "print (\"Height/Width of each image: num_px = \" + str(num_px))\n",
    "print (\"Each image is of size: (\" + str(num_px) + \", \" + str(num_px) + \", 3)\")\n",
    "print (\"train_set_x shape: \" + str(train_set_x_orig.shape))\n",
    "print (\"train_set_y shape: \" + str(train_set_y.shape))\n",
    "print (\"test_set_x shape: \" + str(test_set_x_orig.shape))\n",
    "print (\"test_set_y shape: \" + str(test_set_y.shape))"
   ]
  },
  {
   "cell_type": "markdown",
   "metadata": {},
   "source": [
    "**Expected Output for m_train, m_test and num_px**: \n",
    "<table style=\"width:15%\">\n",
    "  <tr>\n",
    "    <td> m_train </td>\n",
    "    <td> 209 </td> \n",
    "  </tr>\n",
    "    \n",
    "  <tr>\n",
    "    <td> m_test </td>\n",
    "    <td> 50 </td> \n",
    "  </tr>\n",
    "    \n",
    "  <tr>\n",
    "    <td> num_px </td>\n",
    "    <td> 64 </td> \n",
    "  </tr>\n",
    "</table>\n"
   ]
  },
  {
   "cell_type": "markdown",
   "metadata": {},
   "source": [
    "추후에 간변한 계산을 위해 데이터 이미지의 구조를 변형시켜야합니다.  \n",
    "현재 이미지의 구조(num_px, num_px, 3)에서 (num_px $*$ num_px $*$ 3, 1) 로 변형시켜야합니다.\n",
    "\n",
    "이러한 작업을 거치면 각 데이터셋은 칼럼은 평평하게 변한 이미지를 의미하게 됩니다.\n",
    "\n",
    "\n",
    "\n",
    "**Exercise:** 학습데이터와 검정데이터의 이미지 구조를 변형시켜보세요~\n",
    "X의 행렬구조 (a,b,c,d)를 (b $*$ c $*$ d, a)로 바꾸는 방법:\n",
    "```python\n",
    "X_flatten = X.reshape(X.shape[0], -1).T\n",
    "```"
   ]
  },
  {
   "cell_type": "code",
   "execution_count": 5,
   "metadata": {},
   "outputs": [
    {
     "data": {
      "text/plain": [
       "(209, 64, 64, 3)"
      ]
     },
     "execution_count": 5,
     "metadata": {},
     "output_type": "execute_result"
    }
   ],
   "source": [
    "train_set_x_orig.shape"
   ]
  },
  {
   "cell_type": "code",
   "execution_count": 13,
   "metadata": {},
   "outputs": [
    {
     "name": "stdout",
     "output_type": "stream",
     "text": [
      "train_set_x_flatten shape: (12288, 209)\n",
      "train_set_y shape: (1, 209)\n",
      "test_set_x_flatten shape: (12288, 50)\n",
      "test_set_y shape: (1, 50)\n",
      "sanity check after reshaping: [17 31 56 22 33]\n",
      "[[17 31 56]\n",
      " [22 33 59]\n",
      " [25 35 62]\n",
      " [25 35 62]\n",
      " [27 36 64]]\n"
     ]
    }
   ],
   "source": [
    "# Reshape the training and test examples\n",
    "\n",
    "train_set_x_flatten = train_set_x_orig.reshape(train_set_x_orig.shape[0], -1).T\n",
    "\n",
    "test_set_x_flatten = test_set_x_orig.reshape(m_test, -1).T\n",
    "\n",
    "print (\"train_set_x_flatten shape: \" + str(train_set_x_flatten.shape))\n",
    "print (\"train_set_y shape: \" + str(train_set_y.shape))\n",
    "print (\"test_set_x_flatten shape: \" + str(test_set_x_flatten.shape))\n",
    "print (\"test_set_y shape: \" + str(test_set_y.shape))\n",
    "\n",
    "print (\"sanity check after reshaping: \" + str(train_set_x_flatten[0:5,0])) # 첫번째 ~ 다섯번째 행의 첫번째 값을 가져오는 건데\n",
    "                                                                           # 제대로 변형이 됐는지 확인하고자하는 부분입니다.\n",
    "print(train_set_x_orig[0][0][0:5])"
   ]
  },
  {
   "cell_type": "code",
   "execution_count": 7,
   "metadata": {},
   "outputs": [
    {
     "name": "stdout",
     "output_type": "stream",
     "text": [
      "(12288, 209)\n"
     ]
    }
   ],
   "source": [
    "print(train_set_x_flatten.shape)"
   ]
  },
  {
   "cell_type": "markdown",
   "metadata": {},
   "source": [
    "**Expected Output**: \n",
    "\n",
    "<table style=\"width:35%\">\n",
    "  <tr>\n",
    "    <td>train_set_x_flatten shape</td>\n",
    "    <td> (12288, 209)</td> \n",
    "  </tr>\n",
    "  <tr>\n",
    "    <td>train_set_y shape</td>\n",
    "    <td>(1, 209)</td> \n",
    "  </tr>\n",
    "  <tr>\n",
    "    <td>test_set_x_flatten shape</td>\n",
    "    <td>(12288, 50)</td> \n",
    "  </tr>\n",
    "  <tr>\n",
    "    <td>test_set_y shape</td>\n",
    "    <td>(1, 50)</td> \n",
    "  </tr>\n",
    "  <tr>\n",
    "  <td>sanity check after reshaping</td>\n",
    "  <td>[17 31 56 22 33]</td> \n",
    "  </tr>\n",
    "</table>"
   ]
  },
  {
   "cell_type": "markdown",
   "metadata": {},
   "source": [
    "색상 이미지를 표현하기 위해서는 각 한 픽셀에 3색 원소가 지정되어야합니다. 그래서 한 픽셀은 3개 값을 갖고있는 벡터라고 표현합니다. 그리고 각 색 원소의 값은 0~255 값을 갖고있습니다.\n",
    "\n",
    "일반적인 데이터의 머신러닝 전처리 과정에서는 전체 행렬에 전체 평균 값을 빼고 표준 편차값으로 나눠주는 표준화 작업을 수행하는데 이미지 데이터에 대해서는 간단하게 모든 값을 최댓값인 255로 나눠주는 표준화 작업을 합니다.\n",
    "\n",
    "\n",
    "<!-- During the training of your model, you're going to multiply weights and add biases to some initial inputs in order to observe neuron activations. Then you backpropogate with the gradients to train the model. But, it is extremely important for each feature to have a similar range such that our gradients don't explode. You will see that more in detail later in the lectures. !--> "
   ]
  },
  {
   "cell_type": "code",
   "execution_count": 14,
   "metadata": {},
   "outputs": [],
   "source": [
    "train_set_x = train_set_x_flatten/255.\n",
    "test_set_x = test_set_x_flatten/255.\n",
    "\n",
    "#print(test_set_x, test_set_x.shape)\n",
    "#print(test_set_y, test_set_y.shape)"
   ]
  },
  {
   "cell_type": "markdown",
   "metadata": {},
   "source": [
    "<font color='blue'>\n",
    "**중요한 내용:**\n",
    "\n",
    "새로운 데이터에 대해 전처리 하는 과정:\n",
    "- 데이터의 차원과 구조를 확인합니다.\n",
    "- 각 데이터를 표현하기 쉽게 그리고 계산하기 쉽게 구조를 변형시킵니다.\n",
    "- 각 값에 대해 표준화를 수행합니다."
   ]
  },
  {
   "cell_type": "markdown",
   "metadata": {},
   "source": [
    "## 3 - 일반적인 학습 알고리즘의 구조 ##\n",
    "\n",
    "이제 고양이를 구분하는 간단한 알고리즘을 만들어보겠습니다.\n",
    "\n",
    "신경망으로 로지스틱 회귀식을 만들어보겠습니다. 아래 사진은 왜 로지스틱 회귀가 가장 간단한 신경망인지 설명합니다.\n",
    "\n",
    "\n",
    "<img src=\"images/LogReg_kiank.png\" style=\"width:650px;height:400px;\">\n",
    "\n",
    "**수식 설명**:\n",
    "\n",
    "한개 이미지 $x^{(i)}$:\n",
    "$$z^{(i)} = w^T x^{(i)} + b \\tag{1}$$\n",
    "$$\\hat{y}^{(i)} = a^{(i)} = sigmoid(z^{(i)})\\tag{2}$$ \n",
    "$$ \\mathcal{L}(a^{(i)}, y^{(i)}) =  - y^{(i)}  \\log(a^{(i)}) - (1-y^{(i)} )  \\log(1-a^{(i)})\\tag{3}$$\n",
    "\n",
    "비용은 학습데이터의 전부를 합한 값으로 구합니다.:\n",
    "$$ J = \\frac{1}{m} \\sum_{i=1}^m \\mathcal{L}(a^{(i)}, y^{(i)})\\tag{6}$$\n",
    "\n",
    "**핵심 단계**:\n",
    "이번 과제에서는 다음 단계를 순서로 진행합니다.: \n",
    "    - 모델의 매개변수 초기화\n",
    "    - 비용을 최소화 시키는 매개변수를 학습\n",
    "    - 학습된 매개변수를 검정 데이터로 예측\n",
    "    - 결과에 대한 분석"
   ]
  },
  {
   "cell_type": "markdown",
   "metadata": {},
   "source": [
    "## 4 - 알고리즘의 각 구조 설계 ## \n",
    "\n",
    "신경망을 만들기 위한 핵심 단계:\n",
    "1. 모델의 구조를 정의합니다.  \n",
    "2. 매개변수를 초기화 합니다\n",
    "3. 반복:\n",
    "    - 순전파를 통해 현재 손실값을 계산합니다.\n",
    "    - 계산한 손실값과 역전파를 통해 현재 경사도를 계산합니다.\n",
    "    - 구한 경사도를 통해 매개변수 값을 업데이트합니다.\n",
    "\n",
    "1-3 단계를 따로 만들고 이후에 model() 함수로 한번에 모아 작업할 겁니다.\n",
    "\n",
    "### 4.1 - Helper functions\n",
    "\n",
    "**Exercise**:  위 사진에서 수식같이, 예측하기 위해서는 $sigmoid( w^T x + b) = \\frac{1}{1 + e^{-(w^T x + b)}}$ 계산이 필요합니다. np.exp()을 사용하세요~."
   ]
  },
  {
   "cell_type": "code",
   "execution_count": 15,
   "metadata": {},
   "outputs": [],
   "source": [
    "def sigmoid(z):\n",
    "    \"\"\"\n",
    "    Compute the sigmoid of z\n",
    "\n",
    "    Arguments:\n",
    "    z -- A scalar or numpy array of any size.\n",
    "\n",
    "    Return:\n",
    "    s -- sigmoid(z)\n",
    "    \"\"\"\n",
    "\n",
    "    ### START CODE HERE ### (≈ 1 line of code)\n",
    "    s = 1 / (1 + np.exp(-z))\n",
    "    ### END CODE HERE ###\n",
    "    \n",
    "    return s"
   ]
  },
  {
   "cell_type": "code",
   "execution_count": 16,
   "metadata": {
    "scrolled": true
   },
   "outputs": [
    {
     "name": "stdout",
     "output_type": "stream",
     "text": [
      "sigmoid([0, 2]) = [0.5        0.88079708]\n"
     ]
    }
   ],
   "source": [
    "print (\"sigmoid([0, 2]) = \" + str(sigmoid(np.array([0,2]))))"
   ]
  },
  {
   "cell_type": "code",
   "execution_count": 17,
   "metadata": {},
   "outputs": [
    {
     "data": {
      "text/plain": [
       "(2,)"
      ]
     },
     "execution_count": 17,
     "metadata": {},
     "output_type": "execute_result"
    }
   ],
   "source": [
    "np.array([2, 3]).shape"
   ]
  },
  {
   "cell_type": "markdown",
   "metadata": {},
   "source": [
    "**Expected Output**: \n",
    "\n",
    "<table>\n",
    "  <tr>\n",
    "    <td>sigmoid([0, 2])</td>\n",
    "    <td> [ 0.5         0.88079708]</td> \n",
    "  </tr>\n",
    "</table>"
   ]
  },
  {
   "cell_type": "markdown",
   "metadata": {},
   "source": [
    "### 4.2 - 매개변수 초기화\n",
    "\n",
    "**Exercise:** 아래 하단에 있는 cell로 매개변수를 초기화합니다. w 벡터 값을 0으로 초기화 해야합니다. numpy 기능을 잘 모르신다면 numpy 공식 문서에서 np.zeros()에 대해 확인해보세요~"
   ]
  },
  {
   "cell_type": "code",
   "execution_count": 20,
   "metadata": {},
   "outputs": [],
   "source": [
    "# GRADED FUNCTION: initialize_with_zeros\n",
    "\n",
    "def initialize_with_zeros(dim):\n",
    "    \"\"\"\n",
    "    This function creates a vector of zeros of shape (dim, 1) for w and initializes b to 0.\n",
    "    \n",
    "    Argument:\n",
    "    dim -- size of the w vector we want (or number of parameters in this case)\n",
    "    \n",
    "    Returns:\n",
    "    w -- initialized vector of shape (dim, 1)\n",
    "    b -- initialized scalar (corresponds to the bias)\n",
    "    \"\"\"\n",
    "    \n",
    "    ### START CODE HERE ### (≈ 1 line of code)\n",
    "    w = np.zeros((dim, 1))\n",
    "    b = 0\n",
    "    ### END CODE HERE ###\n",
    "\n",
    "    assert(w.shape == (dim, 1))\n",
    "    assert(isinstance(b, float) or isinstance(b, int))\n",
    "    \n",
    "    return w, b"
   ]
  },
  {
   "cell_type": "code",
   "execution_count": 21,
   "metadata": {},
   "outputs": [
    {
     "name": "stdout",
     "output_type": "stream",
     "text": [
      "w = [[0.]\n",
      " [0.]]\n",
      "b = 0\n"
     ]
    }
   ],
   "source": [
    "dim = 2\n",
    "w, b = initialize_with_zeros(dim) # 입력되는 dim은 입력할 행 개수를 의미합니다.\n",
    "print (\"w = \" + str(w))\n",
    "print (\"b = \" + str(b))"
   ]
  },
  {
   "cell_type": "markdown",
   "metadata": {},
   "source": [
    "**Expected Output**: \n",
    "\n",
    "\n",
    "<table style=\"width:15%\">\n",
    "    <tr>\n",
    "        <td>   w   </td>\n",
    "        <td> [[ 0.]\n",
    " [ 0.]] </td>\n",
    "    </tr>\n",
    "    <tr>\n",
    "        <td>   b   </td>\n",
    "        <td> 0 </td>\n",
    "    </tr>\n",
    "</table>\n",
    "\n",
    "For image inputs, w will be of shape (num_px $\\times$ num_px $\\times$ 3, 1)."
   ]
  },
  {
   "cell_type": "markdown",
   "metadata": {},
   "source": [
    "### 4.3 - 순전파와 역전파 \n",
    "\n",
    "매개변수를 초기화했다면 이제 순전파와 역잔파를 통해 매개변수를 학습시킵니다.\n",
    "\n",
    "**Exercise:** 아래 cell에 있는 propagate를 실행시켜 비용함수와 기울기를 계산해보세요~\n",
    "\n",
    "**Hints**:\n",
    "\n",
    "순전파:\n",
    "- 입력 변수 X\n",
    "- X로 A값 계산 $A = \\sigma(w^T X + b) = (a^{(1)}, a^{(2)}, ..., a^{(m-1)}, a^{(m)})$\n",
    "- A로 비용함수 계산: $J = -\\frac{1}{m}\\sum_{i=1}^{m}y^{(i)}\\log(a^{(i)})+(1-y^{(i)})\\log(1-a^{(i)})$\n",
    "\n",
    "역전파를 계산하기 위한 미분값은 아래 식으로 구합니다: \n",
    "\n",
    "$$ \\frac{\\partial J}{\\partial w} = \\frac{1}{m}X(A-Y)^T\\tag{7}$$\n",
    "$$ \\frac{\\partial J}{\\partial b} = \\frac{1}{m} \\sum_{i=1}^m (a^{(i)}-y^{(i)})\\tag{8}$$"
   ]
  },
  {
   "cell_type": "code",
   "execution_count": 22,
   "metadata": {},
   "outputs": [],
   "source": [
    "# GRADED FUNCTION: propagate\n",
    "\n",
    "def propagate(w, b, X, Y):\n",
    "    \"\"\"\n",
    "    Implement the cost function and its gradient for the propagation explained above\n",
    "\n",
    "    Arguments:\n",
    "    w -- weights, a numpy array of size (num_px * num_px * 3, 1)\n",
    "    b -- bias, a scalar\n",
    "    X -- data of size (num_px * num_px * 3, number of examples)\n",
    "    Y -- true \"label\" vector (containing 0 if non-cat, 1 if cat) of size (1, number of examples)\n",
    "\n",
    "    Return:\n",
    "    cost -- negative log-likelihood cost for logistic regression\n",
    "    dw -- gradient of the loss with respect to w, thus same shape as w\n",
    "    db -- gradient of the loss with respect to b, thus same shape as b\n",
    "    \n",
    "    Tips:\n",
    "    - Write your code step by step for the propagation. np.log(), np.dot()\n",
    "    \"\"\"\n",
    "    \n",
    "    m = X.shape[1]\n",
    "    \n",
    "    # FORWARD PROPAGATION (FROM X TO COST)\n",
    "    ### START CODE HERE ### (≈ 2 lines of code)\n",
    "    A = sigmoid(np.dot(w.T, X) + b) # compute activation\n",
    "    \n",
    "    cost = -np.sum((np.dot(Y, np.log(A).T) + np.dot((1-Y), np.log(1-A).T)))/m\n",
    "    cost2 = -(np.dot(Y, np.log(A).T) + np.dot((1-Y), np.log(1-A).T))/m\n",
    "    ### END CODE HERE ###\n",
    "    \n",
    "    # BACKWARD PROPAGATION (TO FIND GRAD)\n",
    "    ### START CODE HERE ### (≈ 2 lines of code)\n",
    "    dw = 1/m * (np.dot(X, (A-Y).T))\n",
    "    # dw 는 \n",
    "    \n",
    "    \n",
    "    db = 1/m * np.sum(A-Y)\n",
    "    \n",
    "    \n",
    "    ### END CODE HERE ###\n",
    "\n",
    "    assert(dw.shape == w.shape)\n",
    "    assert(db.dtype == float)\n",
    "    cost = np.squeeze(cost) # squeeze는 불필요한 차원을 줄어주는 역할을 합니다\n",
    "                            # ex) (2, 1) ==> (2, ) 또는 (2, 2, 1)  ==> (2, 2)\n",
    "    assert(cost.shape == ())\n",
    "    \n",
    "    grads = {\"dw\": dw,\n",
    "             \"db\": db}\n",
    "    \n",
    "    return grads, cost"
   ]
  },
  {
   "cell_type": "code",
   "execution_count": 23,
   "metadata": {},
   "outputs": [
    {
     "name": "stdout",
     "output_type": "stream",
     "text": [
      "dw = [[0.99845601]\n",
      " [2.39507239]]\n",
      "db = 0.001455578136784208\n",
      "cost = 5.801545319394553\n"
     ]
    }
   ],
   "source": [
    "w, b, X, Y = np.array([[1.],[2.]]), 2., np.array([[1., 2., -1.],[3., 4., -3.2]]), np.array([[1,0,1]])\n",
    "grads, cost = propagate(w, b, X, Y)\n",
    "print (\"dw = \" + str(grads[\"dw\"]))\n",
    "print (\"db = \" + str(grads[\"db\"]))\n",
    "print (\"cost = \" + str(cost))"
   ]
  },
  {
   "cell_type": "code",
   "execution_count": 24,
   "metadata": {},
   "outputs": [
    {
     "name": "stdout",
     "output_type": "stream",
     "text": [
      "(2, 1)\n",
      "2.0\n",
      "(2, 3)\n",
      "(1, 3)\n"
     ]
    }
   ],
   "source": [
    "print(w.shape)\n",
    "print(b)\n",
    "print(X.shape)\n",
    "print(Y.shape)"
   ]
  },
  {
   "cell_type": "markdown",
   "metadata": {},
   "source": [
    "**Expected Output**:\n",
    "\n",
    "<table style=\"width:50%\">\n",
    "    <tr>\n",
    "        <td>   dw   </td>\n",
    "      <td> [[ 0.99845601]\n",
    "     [ 2.39507239]]</td>\n",
    "    </tr>\n",
    "    <tr>\n",
    "        <td>   db   </td>\n",
    "        <td> 0.00145557813678 </td>\n",
    "    </tr>\n",
    "    <tr>\n",
    "        <td>   cost   </td>\n",
    "        <td> 5.801545319394553 </td>\n",
    "    </tr>\n",
    "\n",
    "</table>"
   ]
  },
  {
   "cell_type": "markdown",
   "metadata": {},
   "source": [
    "### 4.4 - 최적화\n",
    "- 매개변수를 초기화 했습니다.\n",
    "- 비용함수를 계산하고 미분값 또한 구했습니다.\n",
    "- 이제 경사하강도를 통해 매개변수를 업데이트 합니다.\n",
    "\n",
    "**Exercise:** \n",
    "\n",
    "비용함수 값 $J$를 최소화하는 $w$ 와 $b$ 를 학습하는것이 최적화의 목표입니다.\n",
    "\n",
    "예시 매개변수 $\\theta$의 업데이트 방법은 $ \\theta = \\theta - \\alpha \\text{ } d\\theta$, $\\alpha$ 는 학습률입니다."
   ]
  },
  {
   "cell_type": "code",
   "execution_count": 25,
   "metadata": {},
   "outputs": [],
   "source": [
    "# GRADED FUNCTION: optimize\n",
    "\n",
    "def optimize(w, b, X, Y, num_iterations, learning_rate, print_cost = False):\n",
    "    \"\"\"\n",
    "    This function optimizes w and b by running a gradient descent algorithm\n",
    "    \n",
    "    Arguments:\n",
    "    w -- weights, a numpy array of size (num_px * num_px * 3, 1)\n",
    "    b -- bias, a scalar\n",
    "    X -- data of shape (num_px * num_px * 3, number of examples)\n",
    "    Y -- true \"label\" vector (containing 0 if non-cat, 1 if cat), of shape (1, number of examples)\n",
    "    num_iterations -- number of iterations of the optimization loop\n",
    "    learning_rate -- learning rate of the gradient descent update rule\n",
    "    print_cost -- True to print the loss every 100 steps\n",
    "    \n",
    "    Returns:\n",
    "    params -- dictionary containing the weights w and bias b\n",
    "    grads -- dictionary containing the gradients of the weights and bias with respect to the cost function\n",
    "    costs -- list of all the costs computed during the optimization, this will be used to plot the learning curve.\n",
    "    \n",
    "    Tips:\n",
    "    You basically need to write down two steps and iterate through them:\n",
    "        1) Calculate the cost and the gradient for the current parameters. Use propagate().\n",
    "        2) Update the parameters using gradient descent rule for w and b.\n",
    "    \"\"\"\n",
    "    \n",
    "    costs = []\n",
    "    \n",
    "    for i in range(num_iterations):\n",
    "        \n",
    "        m = X.shape[1] \n",
    "        # Cost and gradient calculation (≈ 1-4 lines of code)\n",
    "        ### START CODE HERE ### \n",
    "        grads, cost = propagate(w, b, X, Y)\n",
    "        ### END CODE HERE ###\n",
    "        \n",
    "        # Retrieve derivatives from grads\n",
    "        dw = grads[\"dw\"]\n",
    "        db = grads[\"db\"]\n",
    "        \n",
    "        # update rule (≈ 2 lines of code)\n",
    "        ### START CODE HERE ###\n",
    "        w = w - (learning_rate * dw)\n",
    "        b = b - (learning_rate * db)\n",
    "        ### END CODE HERE ###\n",
    "        \n",
    "        # Record the costs\n",
    "        if i % 100 == 0:\n",
    "            costs.append(cost)\n",
    "        \n",
    "        # Print the cost every 100 training iterations\n",
    "        if print_cost and i % 100 == 0:\n",
    "            print (\"Cost after iteration %i: %f\" %(i, cost))\n",
    "    \n",
    "    params = {\"w\": w,\n",
    "              \"b\": b}\n",
    "    \n",
    "    grads = {\"dw\": dw,\n",
    "             \"db\": db}\n",
    "    \n",
    "    return params, grads, costs"
   ]
  },
  {
   "cell_type": "code",
   "execution_count": 26,
   "metadata": {},
   "outputs": [
    {
     "name": "stdout",
     "output_type": "stream",
     "text": [
      "w = [[0.19033591]\n",
      " [0.12259159]]\n",
      "b = 1.9253598300845747\n",
      "dw = [[0.67752042]\n",
      " [1.41625495]]\n",
      "db = 0.21919450454067652\n"
     ]
    }
   ],
   "source": [
    "params, grads, costs = optimize(w, b, X, Y, num_iterations= 100, learning_rate = 0.009, print_cost = False)\n",
    "\n",
    "print (\"w = \" + str(params[\"w\"]))\n",
    "print (\"b = \" + str(params[\"b\"]))\n",
    "print (\"dw = \" + str(grads[\"dw\"]))\n",
    "print (\"db = \" + str(grads[\"db\"]))"
   ]
  },
  {
   "cell_type": "markdown",
   "metadata": {},
   "source": [
    "**Expected Output**: \n",
    "\n",
    "<table style=\"width:40%\">\n",
    "    <tr>\n",
    "       <td> w </td>\n",
    "       <td>[[ 0.19033591]\n",
    " [ 0.12259159]] </td>\n",
    "    </tr>\n",
    "    <tr>\n",
    "       <td> b </td>\n",
    "       <td> 1.92535983008 </td>\n",
    "    </tr>\n",
    "    <tr>\n",
    "       <td> dw </td>\n",
    "       <td> [[ 0.67752042]\n",
    " [ 1.41625495]] </td>\n",
    "    </tr>\n",
    "    <tr>\n",
    "       <td> db </td>\n",
    "       <td> 0.219194504541 </td>\n",
    "    </tr>\n",
    "\n",
    "</table>"
   ]
  },
  {
   "cell_type": "markdown",
   "metadata": {},
   "source": [
    "**Exercise:** 이전 함수로 계산한 결과로 학습된 w와 b를 구했습니다. 이제 w와 b를 사용해 새롭게 입력되는 데이터의 라벨을 예측할 수 있게 됐습니다. `predict()` 함수를 사용해 다음 두 단계를 진행합니다.\n",
    "\n",
    "\n",
    "1.  $\\hat{Y} = A = \\sigma(w^T X + b)$ 예측값 계산\n",
    "\n",
    "2. 계산된 값이 0.5보다 작은 값(이하)이 나온다면 0으로 0.5보다 큰 값이 나오면 1로 변환해줍니다. 변환한 값은 `Y_prediction` 변수에 벡터형태로 저장합니다.\n"
   ]
  },
  {
   "cell_type": "code",
   "execution_count": 27,
   "metadata": {},
   "outputs": [],
   "source": [
    "# GRADED FUNCTION: predict\n",
    "\n",
    "def predict(w, b, X):\n",
    "    '''\n",
    "    Predict whether the label is 0 or 1 using learned logistic regression parameters (w, b)\n",
    "    \n",
    "    Arguments:\n",
    "    w -- weights, a numpy array of size (num_px * num_px * 3, 1)\n",
    "    b -- bias, a scalar\n",
    "    X -- data of size (num_px * num_px * 3, number of examples)\n",
    "    \n",
    "    Returns:\n",
    "    Y_prediction -- a numpy array (vector) containing all predictions (0/1) for the examples in X\n",
    "    '''\n",
    "    \n",
    "    m = X.shape[1]\n",
    "    Y_prediction = np.zeros((1,m))\n",
    "    w = w.reshape(X.shape[0], 1)\n",
    "    \n",
    "    # Compute vector \"A\" predicting the probabilities of a cat being present in the picture\n",
    "    ### START CODE HERE ### (≈ 1 line of code)\n",
    "    A = sigmoid(np.dot(w.T, X) + b)\n",
    "    \n",
    "    ### END CODE HERE ###\n",
    "    for i in range(A.shape[1]):\n",
    "        \n",
    "        # Convert probabilities A[0,i] to actual predictions p[0,i]\n",
    "        ### START CODE HERE ### (≈ 4 lines of code)\n",
    "        if A[:, i] > 0.5:\n",
    "             Y_prediction[:, i] = 1\n",
    "        else:\n",
    "             Y_prediction[:, i] = 0\n",
    "        ### END CODE HERE ###\n",
    "    \n",
    "    assert(Y_prediction.shape == (1, m))\n",
    "    \n",
    "    return Y_prediction"
   ]
  },
  {
   "cell_type": "code",
   "execution_count": 28,
   "metadata": {},
   "outputs": [
    {
     "name": "stdout",
     "output_type": "stream",
     "text": [
      "predictions = [[1. 1. 0.]]\n"
     ]
    }
   ],
   "source": [
    "w = np.array([[0.1124579],[0.23106775]])\n",
    "b = -0.3\n",
    "X = np.array([[1.,-1.1,-3.2],[1.2,2.,0.1]])\n",
    "print (\"predictions = \" + str(predict(w, b, X)))"
   ]
  },
  {
   "cell_type": "markdown",
   "metadata": {},
   "source": [
    "**Expected Output**: \n",
    "\n",
    "<table style=\"width:30%\">\n",
    "    <tr>\n",
    "         <td>\n",
    "             **predictions**\n",
    "         </td>\n",
    "          <td>\n",
    "            [[ 1.  1.  0.]]\n",
    "         </td>  \n",
    "   </tr>\n",
    "\n",
    "</table>\n"
   ]
  },
  {
   "cell_type": "markdown",
   "metadata": {},
   "source": [
    "<font color='blue'>\n",
    "**중요한 것:**  \n",
    "    \n",
    "You've implemented several functions that:  \n",
    "- (w,b) 초기화  \n",
    "- 손실을 최소화하기 위해 매개변수 (w,b)를 반복적 학습:  \n",
    "    - 비용함수과 미분값 계산  \n",
    "    - 역전파를 통해 매개변수 업데이트  \n",
    "- 학습된 (w,b)로 입력되는 데이터의 label 예측  "
   ]
  },
  {
   "cell_type": "markdown",
   "metadata": {},
   "source": [
    "## 5 - 모든 기능 합체!! ##\n",
    "\n",
    "이제 여태 만들었던 기능을 한곳에 모으면 모델의 전체적인 구조와 과정을 볼 수 있습니다.\n",
    "\n",
    "**Exercise:** 아래 변수명을 사용합니다:\n",
    "    - Y_prediction_test 은 검정데이터에 대한 예측 값\n",
    "    - Y_prediction_train 은 학습데이터에 대한 예측 값\n",
    "    - w, costs, grads 들은 `optimize()`의 결과 값입니다."
   ]
  },
  {
   "cell_type": "code",
   "execution_count": 29,
   "metadata": {},
   "outputs": [],
   "source": [
    "# GRADED FUNCTION: model\n",
    "\n",
    "def model(X_train, Y_train, X_test, Y_test, num_iterations = 2000, learning_rate = 0.5, print_cost = False):\n",
    "    \"\"\"\n",
    "    Builds the logistic regression model by calling the function you've implemented previously\n",
    "    \n",
    "    Arguments:\n",
    "    X_train -- training set represented by a numpy array of shape (num_px * num_px * 3, m_train)\n",
    "    Y_train -- training labels represented by a numpy array (vector) of shape (1, m_train)\n",
    "    X_test -- test set represented by a numpy array of shape (num_px * num_px * 3, m_test)\n",
    "    Y_test -- test labels represented by a numpy array (vector) of shape (1, m_test)\n",
    "    \n",
    "    num_iterations -- hyperparameter representing the number of iterations to optimize the parameters\n",
    "    learning_rate -- hyperparameter representing the learning rate used in the update rule of optimize()\n",
    "    print_cost -- Set to true to print the cost every 100 iterations\n",
    "    \n",
    "    Returns:\n",
    "    d -- dictionary containing information about the model.\n",
    "    \"\"\"\n",
    "    \n",
    "    ### START CODE HERE ###\n",
    "    # initialize parameters with zeros (≈ 1 line of code)\n",
    "    w, b = initialize_with_zeros(X_train.shape[0]) # w는 X의 입력데이터 수와 같은 구조를 갖고있어야합니다\n",
    "    \n",
    "    # Gradient descent (≈ 1 line of code)\n",
    "    parameters, grads, costs = optimize(w, b, X_train, Y_train, num_iterations, learning_rate, print_cost)\n",
    "    # 훈련데이터를 통해 w를 최적화\n",
    "            \n",
    "    # Retrieve parameters w and b from dictionary \"parameters\"\n",
    "    w = parameters[\"w\"]\n",
    "    b = parameters[\"b\"]\n",
    "    \n",
    "    # Predict test/train set examples (≈ 2 lines of code)\n",
    "    Y_prediction_test = predict(w, b, X_test)\n",
    "    Y_prediction_train = predict(w, b, X_train) # 예측값을 가져오고\n",
    "\n",
    "    ### END CODE HERE ###\n",
    "\n",
    "    # Print train/test Errors\n",
    "    print(\"train accuracy: {} %\".format(100 - np.mean(np.abs(Y_prediction_train - Y_train)) * 100))\n",
    "    print(\"test accuracy: {} %\".format(100 - np.mean(np.abs(Y_prediction_test - Y_test)) * 100))\n",
    "\n",
    "    \n",
    "    d = {\"costs\": costs,\n",
    "         \"Y_prediction_test\": Y_prediction_test, \n",
    "         \"Y_prediction_train\" : Y_prediction_train, \n",
    "         \"w\" : w, \n",
    "         \"b\" : b,\n",
    "         \"learning_rate\" : learning_rate,\n",
    "         \"num_iterations\": num_iterations}\n",
    "    \n",
    "    return d"
   ]
  },
  {
   "cell_type": "markdown",
   "metadata": {},
   "source": [
    "Run the following cell to train your model."
   ]
  },
  {
   "cell_type": "code",
   "execution_count": 30,
   "metadata": {},
   "outputs": [
    {
     "name": "stdout",
     "output_type": "stream",
     "text": [
      "Cost after iteration 0: 0.693147\n",
      "Cost after iteration 100: 0.584508\n",
      "Cost after iteration 200: 0.466949\n",
      "Cost after iteration 300: 0.376007\n",
      "Cost after iteration 400: 0.331463\n",
      "Cost after iteration 500: 0.303273\n",
      "Cost after iteration 600: 0.279880\n",
      "Cost after iteration 700: 0.260042\n",
      "Cost after iteration 800: 0.242941\n",
      "Cost after iteration 900: 0.228004\n",
      "Cost after iteration 1000: 0.214820\n",
      "Cost after iteration 1100: 0.203078\n",
      "Cost after iteration 1200: 0.192544\n",
      "Cost after iteration 1300: 0.183033\n",
      "Cost after iteration 1400: 0.174399\n",
      "Cost after iteration 1500: 0.166521\n",
      "Cost after iteration 1600: 0.159305\n",
      "Cost after iteration 1700: 0.152667\n",
      "Cost after iteration 1800: 0.146542\n",
      "Cost after iteration 1900: 0.140872\n",
      "train accuracy: 99.04306220095694 %\n",
      "test accuracy: 70.0 %\n"
     ]
    }
   ],
   "source": [
    "d = model(train_set_x, train_set_y, test_set_x, test_set_y, num_iterations = 2000, learning_rate = 0.005, print_cost = True)"
   ]
  },
  {
   "cell_type": "markdown",
   "metadata": {},
   "source": [
    "**Expected Output**: \n",
    "\n",
    "<table style=\"width:40%\"> \n",
    "    <tr>\n",
    "        <td> **Cost after iteration 0 **  </td> \n",
    "        <td> 0.693147 </td>\n",
    "    </tr>\n",
    "    <tr>\n",
    "        <td> <center> $\\vdots$ </center> </td> \n",
    "        <td> <center> $\\vdots$ </center> </td> \n",
    "    </tr>  \n",
    "    <tr>\n",
    "        <td> **Train Accuracy**  </td> \n",
    "        <td> 99.04306220095694 % </td>\n",
    "    </tr>\n",
    "    <tr>\n",
    "        <td>**Test Accuracy** </td> \n",
    "        <td> 70.0 % </td>\n",
    "    </tr>\n",
    "</table> \n",
    "\n",
    "\n"
   ]
  },
  {
   "cell_type": "markdown",
   "metadata": {},
   "source": [
    "**Comment**: 학습데이터에 대한 정확도는 100%에 가깝게 나옵니다. 일단 모델이 학습데이터 한해서 좋은 성과를 나온다 말할 수 있습니다. 하지만 검정데이터의 정확도는 68%입니다. 사실 이렇게 간단한 모델에 적은 데이터로 학습했는데 이정도 정확도는 나쁘지 않은 결과입니다. \n",
    "\n",
    "또한 학습데이터에 과대적합을 확인할 수 있습니다. 다음 다른 과제에서 규제화 또는 다른 방법으로 과대적합을 줄이는 방법에 대해 공부해보겠습니다."
   ]
  },
  {
   "cell_type": "code",
   "execution_count": 48,
   "metadata": {},
   "outputs": [
    {
     "name": "stdout",
     "output_type": "stream",
     "text": [
      "y = 0, you predicted that it is a \"non-cat\" picture.\n"
     ]
    },
    {
     "data": {
      "image/png": "[encoded data removed]",
      "text/plain": [
       "<Figure size 432x288 with 1 Axes>"
      ]
     },
     "metadata": {
      "needs_background": "light"
     },
     "output_type": "display_data"
    }
   ],
   "source": [
    "# Example of a picture that was wrongly classified.\n",
    "index = 49\n",
    "plt.imshow(test_set_x[:,index].reshape((num_px, num_px, 3)))\n",
    "\n",
    "print (\"y = \" + str(test_set_y[0,index]) + \", you predicted that it is a \\\"\" + classes[int(d[\"Y_prediction_test\"][0,index])].decode(\"utf-8\") +  \"\\\" picture.\")"
   ]
  },
  {
   "cell_type": "markdown",
   "metadata": {},
   "source": [
    "비용함수값과 미분값을 시각화 해봅시다"
   ]
  },
  {
   "cell_type": "code",
   "execution_count": 49,
   "metadata": {},
   "outputs": [
    {
     "name": "stdout",
     "output_type": "stream",
     "text": [
      "[0.69314718 0.58450836 0.46694904 0.37600687 0.33146329 0.30327307\n",
      " 0.27987959 0.26004214 0.24294068 0.22800422 0.21481951 0.20307819\n",
      " 0.19254428 0.18303334 0.17439859 0.1665214  0.15930452 0.15266732\n",
      " 0.14654224 0.14087208]\n"
     ]
    },
    {
     "data": {
      "image/png": "[encoded data removed]",
      "text/plain": [
       "<Figure size 432x288 with 1 Axes>"
      ]
     },
     "metadata": {
      "needs_background": "light"
     },
     "output_type": "display_data"
    }
   ],
   "source": [
    "# Plot learning curve (with costs)\n",
    "costs = np.squeeze(d['costs'])\n",
    "print(costs)\n",
    "plt.plot(costs)\n",
    "plt.ylabel('cost')\n",
    "plt.xlabel('iterations (per hundreds)')\n",
    "plt.title(\"Learning rate =\" + str(d[\"learning_rate\"]))\n",
    "plt.show()"
   ]
  },
  {
   "cell_type": "code",
   "execution_count": 50,
   "metadata": {},
   "outputs": [
    {
     "name": "stdout",
     "output_type": "stream",
     "text": [
      "[0.6931471805599453, 0.5845083636993086, 0.46694904094655476, 0.37600686694802077, 0.33146328932825125, 0.30327306747438293, 0.27987958658260487, 0.26004213692587574, 0.24294068467796623, 0.2280042225672607, 0.21481951378449637, 0.20307819060644988, 0.1925442771670686, 0.18303333796883506, 0.17439859438448882, 0.16652139705400332, 0.15930451829756614, 0.15266732471296504, 0.14654223503982342, 0.14087207570310162]\n"
     ]
    }
   ],
   "source": [
    "print(d['costs'])"
   ]
  },
  {
   "cell_type": "markdown",
   "metadata": {},
   "source": [
    "**Interpretation**:\n",
    "비용함수 값이 줄어드는것을 확인했습니다. 이것은 매개변수 w와 b가 잘 학습된다는 의미입니다. \n",
    "그리고 좀 더 많이 학습시킬 수 있습니다.\n",
    "하지만 학습 데이터에 대한 정확도는 높아지지만 검정 데이터에 대한 정확도는 낮아지는 것을 확인할 수 있을 겁니다. 이것을 과대적합이라고 표현합니다."
   ]
  },
  {
   "cell_type": "markdown",
   "metadata": {},
   "source": [
    "## 6 - 심화 분석 ##\n",
    "학습률(learning rate: $a$) 에 대해 좀더 알아보겠습니다."
   ]
  },
  {
   "cell_type": "markdown",
   "metadata": {},
   "source": [
    "#### 학습률 선택 방법 ####\n",
    "\n",
    "**Reminder**:\n",
    "학습률($a$)는 매개변수가 얼마나 빠르게 업데이트 될지 결정합니다. 따라서 역전파를 통해 학습시킬때는 학습률을 현명하게 선택해야합니다.\n",
    "만약 학습률이 너무 크면 발산하게 되고 유사하게 너무 낮게 설정하면 학습을 엄청나게 해야 최적의 값을 찾을 수 있을겁니다.\n",
    "\n",
    "아래 cell을 실행시켜 학습률에 따른 차이를 직접 확인해봅시다."
   ]
  },
  {
   "cell_type": "code",
   "execution_count": 51,
   "metadata": {},
   "outputs": [
    {
     "name": "stdout",
     "output_type": "stream",
     "text": [
      "learning rate is: 0.01\n",
      "train accuracy: 99.52153110047847 %\n",
      "test accuracy: 68.0 %\n",
      "\n",
      "-------------------------------------------------------\n",
      "\n",
      "learning rate is: 0.001\n",
      "train accuracy: 88.99521531100478 %\n",
      "test accuracy: 64.0 %\n",
      "\n",
      "-------------------------------------------------------\n",
      "\n",
      "learning rate is: 0.0001\n",
      "train accuracy: 68.42105263157895 %\n",
      "test accuracy: 36.0 %\n",
      "\n",
      "-------------------------------------------------------\n",
      "\n"
     ]
    },
    {
     "data": {
      "image/png": "[encoded data removed]",
      "text/plain": [
       "<Figure size 432x288 with 1 Axes>"
      ]
     },
     "metadata": {
      "needs_background": "light"
     },
     "output_type": "display_data"
    }
   ],
   "source": [
    "learning_rates = [0.01, 0.001, 0.0001]\n",
    "models = {}\n",
    "for i in learning_rates:\n",
    "    print (\"learning rate is: \" + str(i))\n",
    "    \n",
    "    models[str(i)] = model(train_set_x, train_set_y, test_set_x, test_set_y, num_iterations = 1500, learning_rate = i, print_cost = False)\n",
    "    \n",
    "    print ('\\n' + \"-------------------------------------------------------\" + '\\n')\n",
    "\n",
    "for i in learning_rates:\n",
    "    plt.plot(np.squeeze(models[str(i)][\"costs\"]), label= str(models[str(i)][\"learning_rate\"]))\n",
    "\n",
    "plt.ylabel('cost')\n",
    "plt.xlabel('iterations (hundreds)')\n",
    "\n",
    "legend = plt.legend(loc='upper center', shadow=True)\n",
    "frame = legend.get_frame()\n",
    "frame.set_facecolor('0.90')\n",
    "plt.show()"
   ]
  },
  {
   "cell_type": "markdown",
   "metadata": {},
   "source": [
    "**결과 해석**: \n",
    "- 학습률에 따라 예측결과와 비용함수 값이 다릅니다/\n",
    "- 학습률이 너무 크다면(여기서 0.01) 비용함수 값의 변동이 큰 것을 확인 할 수 있습니다. (이번 예시에서는 좋은 결과를 가져왔지만 잘 못 학습될 수 도 있습니다.)\n",
    "- 낮은 비용함수 값을 갖는 모델이 무조건 좋은 모델이라고 할 수 없습니다. 만약 과대적합의 가능성이 있다면 꼭 확인해봐야합니다. \n",
    "- 딥러닝시 추천하는 방법: \n",
    "    - 비용함수값을 더 잘 최소화 하는 학습률을 선택하세요\n",
    "    - 과대적합 문제가 발생하면 다른 방법을 사용하세요\n"
   ]
  },
  {
   "cell_type": "markdown",
   "metadata": {},
   "source": [
    "## 7 - 개인적인 사진으로 결과 확인 ##"
   ]
  },
  {
   "cell_type": "code",
   "execution_count": 64,
   "metadata": {
    "scrolled": false
   },
   "outputs": [
    {
     "name": "stdout",
     "output_type": "stream",
     "text": [
      "y = 0.0, your algorithm predicts a \"non-cat\" picture.\n"
     ]
    },
    {
     "data": {
      "image/png": "[encoded data removed]",
      "text/plain": [
       "<Figure size 432x288 with 1 Axes>"
      ]
     },
     "metadata": {
      "needs_background": "light"
     },
     "output_type": "display_data"
    }
   ],
   "source": [
    "my_image = \"la_defense.jpg\"   # change this to the name of your image file \n",
    "\n",
    "import cv2\n",
    "# We preprocess the image to fit your algorithm.\n",
    "fname = \"images/\" + my_image\n",
    "image = cv2.imread(fname)\n",
    "image = image/255.\n",
    "my_image = cv2.resize(image, dsize=(num_px,num_px)).reshape((1, num_px*num_px*3)).T\n",
    "my_predicted_image = predict(d[\"w\"], d[\"b\"], my_image)\n",
    "\n",
    "plt.imshow(image)\n",
    "print(\"y = \" + str(np.squeeze(my_predicted_image)) + \", your algorithm predicts a \\\"\" + classes[int(np.squeeze(my_predicted_image)),].decode(\"utf-8\") +  \"\\\" picture.\")"
   ]
  },
  {
   "cell_type": "markdown",
   "metadata": {},
   "source": [
    "테스트 데이터의 정확도가 70%이지만 잘 인식 못하네요~~ ㅎㅎ"
   ]
  },
  {
   "cell_type": "markdown",
   "metadata": {},
   "source": [
    "<font color='blue'>  \n",
    "**이번 내용으로 기억해야할 점!!:**    \n",
    "1. 데이터 전처리는 중요한 과정입니다.\n",
    "2. 여러 기능을 따로 구현을 했습니다. 구현한 기능들: initialize(), propagate(), optimize(). 그리고 model()으로 한번에 모아 설계했습니다.\n",
    "3. 합습률 조정에 따라 알고리즘에 큰 차이의 영향을 미칩니다. (이러한 변수를 하이퍼파라미터라고 합니다.)"
   ]
  },
  {
   "cell_type": "markdown",
   "metadata": {},
   "source": [
    "- 학습률 그리고 학습횟수를 바꿔가면서 결과를 확인해보세요~\n",
    "- 다른 초기화 방법을 찾아보고 결과를 비교해보세요~\n",
    "- 다른 전처리 방법을 찾아보고 결과를 비교해보세요~"
   ]
  },
  {
   "cell_type": "markdown",
   "metadata": {},
   "source": [
    "Bibliography:\n",
    "- http://www.wildml.com/2015/09/implementing-a-neural-network-from-scratch/\n",
    "- https://stats.stackexchange.com/questions/211436/why-do-we-normalize-images-by-subtracting-the-datasets-image-mean-and-not-the-c"
   ]
  }
 ],
 "metadata": {
  "coursera": {
   "course_slug": "neural-networks-deep-learning",
   "graded_item_id": "XaIWT",
   "launcher_item_id": "zAgPl"
  },
  "kernelspec": {
   "display_name": "Python 3",
   "language": "python",
   "name": "python3"
  },
  "language_info": {
   "codemirror_mode": {
    "name": "ipython",
    "version": 3
   },
   "file_extension": ".py",
   "mimetype": "text/x-python",
   "name": "python",
   "nbconvert_exporter": "python",
   "pygments_lexer": "ipython3",
   "version": "3.7.8"
  }
 },
 "nbformat": 4,
 "nbformat_minor": 2
}
